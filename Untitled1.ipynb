{
 "cells": [
  {
   "cell_type": "code",
   "execution_count": 2,
   "metadata": {},
   "outputs": [
    {
     "ename": "ModuleNotFoundError",
     "evalue": "No module named 'sonnet'",
     "output_type": "error",
     "traceback": [
      "\u001b[1;31m---------------------------------------------------------------------------\u001b[0m",
      "\u001b[1;31mModuleNotFoundError\u001b[0m                       Traceback (most recent call last)",
      "\u001b[1;32m<ipython-input-2-8b422c6c4b29>\u001b[0m in \u001b[0;36m<module>\u001b[1;34m\u001b[0m\n\u001b[0;32m     11\u001b[0m \u001b[1;32mimport\u001b[0m \u001b[0mtensorflow\u001b[0m\u001b[1;33m.\u001b[0m\u001b[0mcompat\u001b[0m\u001b[1;33m.\u001b[0m\u001b[0mv2\u001b[0m \u001b[1;32mas\u001b[0m \u001b[0mtf\u001b[0m\u001b[1;33m\u001b[0m\u001b[1;33m\u001b[0m\u001b[0m\n\u001b[0;32m     12\u001b[0m \u001b[1;31m#import tensorflow_probability as tfp\u001b[0m\u001b[1;33m\u001b[0m\u001b[1;33m\u001b[0m\u001b[1;33m\u001b[0m\u001b[0m\n\u001b[1;32m---> 13\u001b[1;33m \u001b[1;32mimport\u001b[0m \u001b[0msonnet\u001b[0m \u001b[1;32mas\u001b[0m \u001b[0msnt\u001b[0m\u001b[1;33m\u001b[0m\u001b[1;33m\u001b[0m\u001b[0m\n\u001b[0m\u001b[0;32m     14\u001b[0m \u001b[0mtf\u001b[0m\u001b[1;33m.\u001b[0m\u001b[0menable_v2_behavior\u001b[0m\u001b[1;33m(\u001b[0m\u001b[1;33m)\u001b[0m\u001b[1;33m\u001b[0m\u001b[1;33m\u001b[0m\u001b[0m\n\u001b[0;32m     15\u001b[0m \u001b[1;33m\u001b[0m\u001b[0m\n",
      "\u001b[1;31mModuleNotFoundError\u001b[0m: No module named 'sonnet'"
     ]
    }
   ],
   "source": [
    "import numpy as np\n",
    "import tqdm as tqdm\n",
    "import sklearn.datasets as skd\n",
    "\n",
    "# visualization\n",
    "import matplotlib.pyplot as plt\n",
    "import seaborn as sns\n",
    "from scipy.stats import kde\n",
    "\n",
    "# tf and friends\n",
    "import tensorflow.compat.v2 as tf\n",
    "#import tensorflow_probability as tfp\n",
    "import sonnet as snt\n",
    "tf.enable_v2_behavior()\n",
    "\n",
    "tfb = tfp.bijectors\n",
    "tfd = tfp.distributions\n",
    "\n",
    "def make_grid(xmin, xmax, ymin, ymax, gridlines, pts):\n",
    "  xpts = np.linspace(xmin, xmax, pts)\n",
    "  ypts = np.linspace(ymin, ymax, pts)\n",
    "  xgrid = np.linspace(xmin, xmax, gridlines)\n",
    "  ygrid = np.linspace(ymin, ymax, gridlines)\n",
    "  xlines = np.stack([a.ravel() for a in np.meshgrid(xpts, ygrid)])\n",
    "  ylines = np.stack([a.ravel() for a in np.meshgrid(xgrid, ypts)])\n",
    "  return np.concatenate([xlines, ylines], 1).T\n",
    "\n",
    "grid = make_grid(-3, 3, -3, 3, 4, 100)"
   ]
  },
  {
   "cell_type": "code",
   "execution_count": 4,
   "metadata": {},
   "outputs": [],
   "source": [
    "import numpy as np\n",
    "import sklearn\n",
    "import sklearn.datasets\n",
    "from sklearn.utils import shuffle as util_shuffle\n",
    "\n",
    "\n",
    "# Dataset iterator\n",
    "def inf_train_gen(data, rng=None, batch_size=200):\n",
    "    if rng is None:\n",
    "        rng = np.random.RandomState()\n",
    "\n",
    "    if data == \"8gaussians\":\n",
    "        scale = 4.\n",
    "        centers = [(1, 0), (-1, 0), (0, 1), (0, -1), (1. / np.sqrt(2), 1. / np.sqrt(2)),\n",
    "                   (1. / np.sqrt(2), -1. / np.sqrt(2)), (-1. / np.sqrt(2),\n",
    "                                                         1. / np.sqrt(2)), (-1. / np.sqrt(2), -1. / np.sqrt(2))]\n",
    "        centers = [(scale * x, scale * y) for x, y in centers]\n",
    "\n",
    "        dataset = []\n",
    "        for i in range(batch_size):\n",
    "            point = rng.randn(2) * 0.5\n",
    "            idx = rng.randint(8)\n",
    "            center = centers[idx]\n",
    "            point[0] += center[0]\n",
    "            point[1] += center[1]\n",
    "            dataset.append(point)\n",
    "        dataset = np.array(dataset, dtype=\"float32\")\n",
    "        dataset /= 1.414\n",
    "        return dataset\n",
    "\n",
    "\n",
    "    elif data == \"checkerboard\":\n",
    "        x1 = np.random.rand(batch_size) * 4 - 2\n",
    "        x2_ = np.random.rand(batch_size) - np.random.randint(0, 2, batch_size) * 2\n",
    "        x2 = x2_ + (np.floor(x1) % 2)\n",
    "        return np.concatenate([x1[:, None], x2[:, None]], 1) * 2"
   ]
  },
  {
   "cell_type": "code",
   "execution_count": null,
   "metadata": {},
   "outputs": [],
   "source": [
    "base_loc = np.array([0.0, 0.0]).astype(np.float32)\n",
    "base_sigma = np.array([0.8, 0.8]).astype(np.float32)\n",
    "base_distribution = tfd.MultivariateNormalDiag(base_loc, base_sigma)\n",
    "class MLP_ODE(snt.Module):\n",
    "  \"\"\"Multi-layer NN ode_fn.\"\"\"\n",
    "  def __init__(self, num_hidden, num_layers, num_output, name='mlp_ode'):\n",
    "    super(MLP_ODE, self).__init__(name=name)\n",
    "    self._num_hidden = num_hidden\n",
    "    self._num_output = num_output\n",
    "    self._num_layers = num_layers\n",
    "    self._modules = []\n",
    "    for _ in range(self._num_layers - 1):\n",
    "      self._modules.append(snt.Linear(self._num_hidden))\n",
    "      self._modules.append(tf.math.tanh)\n",
    "    self._modules.append(snt.Linear(self._num_output))\n",
    "    self._model = snt.Sequential(self._modules)\n",
    "\n",
    "  def __call__(self, t, inputs):\n",
    "    inputs = tf.concat([tf.broadcast_to(t, inputs.shape), inputs], -1)\n",
    "    return self._model(inputs)"
   ]
  },
  {
   "cell_type": "code",
   "execution_count": null,
   "metadata": {},
   "outputs": [],
   "source": [
    "#@title Model and training parameters\n",
    "LR = 1e-2  #@param\n",
    "NUM_EPOCHS = 80  #@param\n",
    "STACKED_FFJORDS = 4  #@param\n",
    "NUM_HIDDEN = 8  #@param\n",
    "NUM_LAYERS = 3  #@param\n",
    "NUM_OUTPUT = 2"
   ]
  },
  {
   "cell_type": "code",
   "execution_count": null,
   "metadata": {},
   "outputs": [],
   "source": [
    "#@title Building bijector\n",
    "solver = tfp.math.ode.DormandPrince(atol=1e-5)\n",
    "ode_solve_fn = solver.solve\n",
    "trace_augmentation_fn = tfb.ffjord.trace_jacobian_exact\n",
    "\n",
    "bijectors = []\n",
    "for _ in range(STACKED_FFJORDS):\n",
    "  mlp_model = MLP_ODE(NUM_HIDDEN, NUM_LAYERS, NUM_OUTPUT)\n",
    "  next_ffjord = tfb.FFJORD(\n",
    "      state_time_derivative_fn=mlp_model,ode_solve_fn=ode_solve_fn,\n",
    "      trace_augmentation_fn=trace_augmentation_fn)\n",
    "  bijectors.append(next_ffjord)\n",
    "\n",
    "stacked_ffjord = tfb.Chain(bijectors[::-1])"
   ]
  },
  {
   "cell_type": "code",
   "execution_count": null,
   "metadata": {},
   "outputs": [],
   "source": [
    "transformed_distribution = tfd.TransformedDistribution(\n",
    "    distribution=base_distribution, bijector=stacked_ffjord)\n",
    "#@title Training\n",
    "@tf.function\n",
    "def train_step(optimizer, target_sample):\n",
    "  with tf.GradientTape() as tape:\n",
    "    loss = -tf.reduce_mean(transformed_distribution.log_prob(target_sample))\n",
    "  variables = tape.watched_variables()\n",
    "  gradients = tape.gradient(loss, variables)\n",
    "  optimizer.apply(gradients, variables)\n",
    "  return loss\n",
    "#@title Samples\n",
    "@tf.function\n",
    "def get_samples():\n",
    "  base_distribution_samples = base_distribution.sample(SAMPLE_SIZE)\n",
    "  transformed_samples = transformed_distribution.sample(SAMPLE_SIZE)\n",
    "  return base_distribution_samples, transformed_samples\n",
    "\n",
    "\n",
    "@tf.function\n",
    "def get_transformed_grid():\n",
    "  transformed_grid = stacked_ffjord.forward(grid)\n",
    "  return transformed_grid\n"
   ]
  },
  {
   "cell_type": "code",
   "execution_count": null,
   "metadata": {},
   "outputs": [],
   "source": [
    "evaluation_samples = []\n",
    "base_samples, transformed_samples = get_samples()\n",
    "transformed_grid = get_transformed_grid()\n",
    "evaluation_samples.append((base_samples, transformed_samples, transformed_grid))"
   ]
  },
  {
   "cell_type": "code",
   "execution_count": 6,
   "metadata": {},
   "outputs": [
    {
     "data": {
      "image/png": "[encoded data removed]",
      "text/plain": [
       "<Figure size 576x576 with 1 Axes>"
      ]
     },
     "metadata": {
      "needs_background": "light"
     },
     "output_type": "display_data"
    }
   ],
   "source": [
    "DATASET_SIZE = 1024 * 8  #@param\n",
    "BATCH_SIZE = 256  #@param\n",
    "SAMPLE_SIZE = DATASET_SIZE\n",
    "\n",
    "#moons = skd.make_moons(n_samples=DATASET_SIZE, noise=.06)[0]\n",
    "boards = inf_train_gen(\"checkerboard\")\n",
    "boards_ds = tf.data.Dataset.from_tensor_slices(boards.astype(np.float32))\n",
    "boards_ds = boards_ds.prefetch(tf.data.experimental.AUTOTUNE)\n",
    "boards_ds = boards_ds.cache()\n",
    "boards_ds = boards_ds.shuffle(DATASET_SIZE)\n",
    "boards_ds = boards_ds.batch(BATCH_SIZE)\n",
    "\n",
    "plt.figure(figsize=[8, 8])\n",
    "plt.scatter(boards[:, 0], boards[:, 1])\n",
    "plt.show()"
   ]
  },
  {
   "cell_type": "code",
   "execution_count": 7,
   "metadata": {},
   "outputs": [
    {
     "ename": "NameError",
     "evalue": "name 'evaluation_samples' is not defined",
     "output_type": "error",
     "traceback": [
      "\u001b[1;31m---------------------------------------------------------------------------\u001b[0m",
      "\u001b[1;31mNameError\u001b[0m                                 Traceback (most recent call last)",
      "\u001b[1;32m<ipython-input-7-3363356a11fa>\u001b[0m in \u001b[0;36m<module>\u001b[1;34m\u001b[0m\n\u001b[0;32m      1\u001b[0m \u001b[0mpanel_id\u001b[0m \u001b[1;33m=\u001b[0m \u001b[1;36m0\u001b[0m\u001b[1;33m\u001b[0m\u001b[1;33m\u001b[0m\u001b[0m\n\u001b[1;32m----> 2\u001b[1;33m \u001b[0mpanel_data\u001b[0m \u001b[1;33m=\u001b[0m \u001b[0mevaluation_samples\u001b[0m\u001b[1;33m[\u001b[0m\u001b[0mpanel_id\u001b[0m\u001b[1;33m]\u001b[0m\u001b[1;33m\u001b[0m\u001b[1;33m\u001b[0m\u001b[0m\n\u001b[0m\u001b[0;32m      3\u001b[0m fig, axarray = plt.subplots(\n\u001b[0;32m      4\u001b[0m   1, 4, figsize=(16, 6))\n\u001b[0;32m      5\u001b[0m plot_panel(\n",
      "\u001b[1;31mNameError\u001b[0m: name 'evaluation_samples' is not defined"
     ]
    }
   ],
   "source": [
    "panel_id = 0\n",
    "panel_data = evaluation_samples[panel_id]\n",
    "fig, axarray = plt.subplots(\n",
    "  1, 4, figsize=(16, 6))\n",
    "plot_panel(\n",
    "    grid, panel_data[0], panel_data[2], panel_data[1], inf_train_gen(\"checkerboard\"), axarray, False)\n",
    "plt.tight_layout()"
   ]
  },
  {
   "cell_type": "code",
   "execution_count": null,
   "metadata": {},
   "outputs": [],
   "source": [
    "learning_rate = tf.Variable(LR, trainable=False)\n",
    "optimizer = snt.optimizers.Adam(learning_rate)\n",
    "\n",
    "for epoch in tqdm.trange(NUM_EPOCHS // 2):\n",
    "  base_samples, transformed_samples = get_samples()\n",
    "  transformed_grid = get_transformed_grid()\n",
    "  evaluation_samples.append(\n",
    "      (base_samples, transformed_samples, transformed_grid))\n",
    "  for batch in boards_ds:\n",
    "    _ = train_step(optimizer, batch)"
   ]
  },
  {
   "cell_type": "code",
   "execution_count": null,
   "metadata": {},
   "outputs": [],
   "source": [
    "panel_id = -1\n",
    "panel_data = evaluation_samples[panel_id]\n",
    "fig, axarray = plt.subplots(\n",
    "  1, 4, figsize=(16, 6))\n",
    "plot_panel(grid, panel_data[0], panel_data[2], panel_data[1], inf_train_gen(\"checkerboard\"), axarray)\n",
    "plt.tight_layout()"
   ]
  }
 ],
 "metadata": {
  "kernelspec": {
   "display_name": "Python 3",
   "language": "python",
   "name": "python3"
  },
  "language_info": {
   "codemirror_mode": {
    "name": "ipython",
    "version": 3
   },
   "file_extension": ".py",
   "mimetype": "text/x-python",
   "name": "python",
   "nbconvert_exporter": "python",
   "pygments_lexer": "ipython3",
   "version": "3.8.5"
  }
 },
 "nbformat": 4,
 "nbformat_minor": 4
}
